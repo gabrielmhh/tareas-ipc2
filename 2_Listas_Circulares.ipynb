{
  "nbformat": 4,
  "nbformat_minor": 0,
  "metadata": {
    "colab": {
      "name": "2. Listas Circulares.ipynb",
      "provenance": [],
      "collapsed_sections": [],
      "authorship_tag": "ABX9TyPTqXNrJXa1yT4sUqc3iep0",
      "include_colab_link": true
    },
    "kernelspec": {
      "name": "python3",
      "display_name": "Python 3"
    },
    "language_info": {
      "name": "python"
    }
  },
  "cells": [
    {
      "cell_type": "markdown",
      "metadata": {
        "id": "view-in-github",
        "colab_type": "text"
      },
      "source": [
        "<a href=\"https://colab.research.google.com/github/gabrielmhh/tareas-ipc2/blob/main/2_Listas_Circulares.ipynb\" target=\"_parent\"><img src=\"https://colab.research.google.com/assets/colab-badge.svg\" alt=\"Open In Colab\"/></a>"
      ]
    },
    {
      "cell_type": "markdown",
      "metadata": {
        "id": "m64HesNMzLO9"
      },
      "source": [
        "###**Listas Circulares**\n",
        "**Definición de la clase Estudiante**"
      ]
    },
    {
      "cell_type": "code",
      "metadata": {
        "id": "jyqMPbSYzNRz"
      },
      "source": [
        "class estudiante:\n",
        "  def __init__ (self, carne, nombre, edad, direccion, telefono, email, carrera, puesto):\n",
        "    self.carne = carne\n",
        "    self.nombre = nombre\n",
        "    self.edad = edad\n",
        "    self.direccion = direccion\n",
        "    self.telefono = telefono\n",
        "    self.email = email\n",
        "    self.carrera = carrera\n",
        "    self.puesto = puesto"
      ],
      "execution_count": null,
      "outputs": []
    },
    {
      "cell_type": "markdown",
      "metadata": {
        "id": "xznTpfKFzRT7"
      },
      "source": [
        "**Definición de la clase Nodo**"
      ]
    },
    {
      "cell_type": "code",
      "metadata": {
        "id": "TvVRPiASzR1X"
      },
      "source": [
        "class nodo:\n",
        "  def __init__(self, estudiante = None, siguiente= None):\n",
        "    self.estudiante = estudiante\n",
        "    self.siguiente = siguiente "
      ],
      "execution_count": null,
      "outputs": []
    },
    {
      "cell_type": "markdown",
      "metadata": {
        "id": "1pIofAvVzVLz"
      },
      "source": [
        "**Definición de la clase Lista Enlazada**"
      ]
    },
    {
      "cell_type": "code",
      "metadata": {
        "id": "FYyedE6fzYyr"
      },
      "source": [
        "class lista_circular: \n",
        "  def __init__(self):\n",
        "    self.primero = None\n",
        "\n",
        "  def insertar(self, estudiante):\n",
        "    if self.primero is None:\n",
        "      self.primero = nodo(estudiante = estudiante)\n",
        "      self.primero.siguiente = self.primero\n",
        "    else:\n",
        "      actual = nodo(estudiante = estudiante, siguiente = self.primero.siguiente)\n",
        "      self.primero.siguiente = actual\n",
        "\n",
        "  def recorrer(self):\n",
        "    if self.primero is None: \n",
        "      return\n",
        "    actual = self.primero\n",
        "    print(\"carne:\", actual. estudiante.carne, \"nombre:\", actual.estudiante.nombre, \"email\", actual.estudiante.email, \"->\")\n",
        "    while actual.siguiente != self.primero:\n",
        "      actual = actual.siguiente\n",
        "      print(\"carne:\", actual.estudiante.carne, \"nombre:\", actual.estudiante.nombre, \"email\", actual.estudiante.email, \"->\")\n",
        "\n",
        "  def eliminar(self, carne):\n",
        "    actual = self.primero\n",
        "    anterior = None\n",
        "    no_encontrado = False\n",
        "\n",
        "    while actual and actual.estudiante.carne != carne:\n",
        "      anterior = actual\n",
        "      actual = actual.siguiente\n",
        "      if actual == self.primero:\n",
        "        no_encontrado = True\n",
        "        break\n",
        "\n",
        "    if not no_encontrado: \n",
        "      if anterior is not None:\n",
        "        anterior.siguiente = actual.siguiente\n",
        "      else:\n",
        "        while actual.siguiente != self.primero:\n",
        "          actual = actual.siguiente\n",
        "      actual.siguiente = self.primero.siguiente\n",
        "      self.primero = self.primero.siguiente"
      ],
      "execution_count": null,
      "outputs": []
    },
    {
      "cell_type": "markdown",
      "metadata": {
        "id": "zvLAYReu9wUm"
      },
      "source": [
        "**Creación de objetos Estudiante**"
      ]
    },
    {
      "cell_type": "code",
      "metadata": {
        "id": "N16_D8dO9027"
      },
      "source": [
        "e1 = estudiante(201712345,\"Gerson Ortiz\", 20, \"20 calle\",46698745, \"gerson@gmail.com\", \"Ingenieria en Sistemas\",\"Programador jr\")\n",
        "e2 = estudiante(201812345,\"Karen Hurtarte\", 21, \"19 calle\",46888745, \"karen@gmail.com\", \"Ingenieria en Sistemas\",\"Programador jr\")\n",
        "e3 = estudiante(201912345,\"Luis Mendez\", 22, \"22 calle\",86698745, \"Luis@gmail.com\", \"Ingenieria en Sistemas\",\"Programador jr\")"
      ],
      "execution_count": null,
      "outputs": []
    },
    {
      "cell_type": "markdown",
      "metadata": {
        "id": "YCpDtLuc99B1"
      },
      "source": [
        "**Inserción**"
      ]
    },
    {
      "cell_type": "code",
      "metadata": {
        "id": "RIBfSHnI-AQG"
      },
      "source": [
        "lista_c = lista_circular()\n",
        "lista_c.insertar(e1)\n",
        "lista_c.insertar(e2)\n",
        "lista_c.insertar(e3)"
      ],
      "execution_count": null,
      "outputs": []
    },
    {
      "cell_type": "markdown",
      "metadata": {
        "id": "983rWEJR-bEa"
      },
      "source": [
        "**Recorrer la lista**"
      ]
    },
    {
      "cell_type": "code",
      "metadata": {
        "colab": {
          "base_uri": "https://localhost:8080/"
        },
        "id": "ki1xL_5--dVU",
        "outputId": "018748bb-fad3-4286-a209-607ac20f16c3"
      },
      "source": [
        "lista_c.recorrer()"
      ],
      "execution_count": null,
      "outputs": [
        {
          "output_type": "stream",
          "text": [
            "carne: 201712345 nombre: Gerson Ortiz email gerson@gmail.com ->\n",
            "carne: 201912345 nombre: Luis Mendez email Luis@gmail.com ->\n",
            "carne: 201812345 nombre: Karen Hurtarte email karen@gmail.com ->\n"
          ],
          "name": "stdout"
        }
      ]
    },
    {
      "cell_type": "markdown",
      "metadata": {
        "id": "wIcuKAGcrp5n"
      },
      "source": [
        "**Eliminar un nodo de la lista**"
      ]
    },
    {
      "cell_type": "code",
      "metadata": {
        "colab": {
          "base_uri": "https://localhost:8080/"
        },
        "id": "6b4aDoY-ruQu",
        "outputId": "c9fc3c08-bd95-4838-bf91-6e6a3347de68"
      },
      "source": [
        "lista_c.eliminar(201812345)\n",
        "lista_c.recorrer()"
      ],
      "execution_count": null,
      "outputs": [
        {
          "output_type": "stream",
          "text": [
            "carne: 201912345 nombre: Luis Mendez email Luis@gmail.com ->\n",
            "carne: 201712345 nombre: Gerson Ortiz email gerson@gmail.com ->\n"
          ],
          "name": "stdout"
        }
      ]
    }
  ]
}