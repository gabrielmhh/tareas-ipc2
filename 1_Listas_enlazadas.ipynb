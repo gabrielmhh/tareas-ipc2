{
  "nbformat": 4,
  "nbformat_minor": 0,
  "metadata": {
    "colab": {
      "name": "1. Listas enlazadas.ipynb",
      "provenance": [],
      "collapsed_sections": [],
      "authorship_tag": "ABX9TyNg2jEAOOZiYgNV+QYk00Ry",
      "include_colab_link": true
    },
    "kernelspec": {
      "name": "python3",
      "display_name": "Python 3"
    },
    "language_info": {
      "name": "python"
    }
  },
  "cells": [
    {
      "cell_type": "markdown",
      "metadata": {
        "id": "view-in-github",
        "colab_type": "text"
      },
      "source": [
        "<a href=\"https://colab.research.google.com/github/gabrielmhh/tareas-ipc2/blob/main/1_Listas_enlazadas.ipynb\" target=\"_parent\"><img src=\"https://colab.research.google.com/assets/colab-badge.svg\" alt=\"Open In Colab\"/></a>"
      ]
    },
    {
      "cell_type": "markdown",
      "metadata": {
        "id": "w1S3qbTitYN9"
      },
      "source": [
        "###**Listas Enlazadas**\n",
        "**Definición de la clase Estudiante**"
      ]
    },
    {
      "cell_type": "code",
      "metadata": {
        "id": "AaDGIkAyt3cf"
      },
      "source": [
        "class estudiante:\n",
        "  def __init__ (self, carne, nombre, edad, direccion, telefono, email, carrera, puesto):\n",
        "    self.carne = carne\n",
        "    self.nombre = nombre\n",
        "    self.edad = edad\n",
        "    self.direccion = direccion\n",
        "    self.telefono = telefono\n",
        "    self.email = email\n",
        "    self.carrera = carrera\n",
        "    self.puesto = puesto"
      ],
      "execution_count": null,
      "outputs": []
    },
    {
      "cell_type": "markdown",
      "metadata": {
        "id": "7bNYoUmxzV8u"
      },
      "source": [
        "**Definición de la clase Nodo**"
      ]
    },
    {
      "cell_type": "code",
      "metadata": {
        "id": "0z1MNxl-zYJd"
      },
      "source": [
        "class nodo:\n",
        "  def __init__(self, estudiante = None, siguiente= None):\n",
        "    self.estudiante = estudiante\n",
        "    self.siguiente = siguiente "
      ],
      "execution_count": null,
      "outputs": []
    },
    {
      "cell_type": "markdown",
      "metadata": {
        "id": "BPmpC22R27cx"
      },
      "source": [
        "**Definición de la clase Lista Enlazada**"
      ]
    },
    {
      "cell_type": "code",
      "metadata": {
        "id": "PnmbWdJ72-VN"
      },
      "source": [
        "class lista_enlazada:\n",
        "  def __init__(self):\n",
        "    self.primero = None\n",
        "\n",
        "  def insertar(self, estudiante):\n",
        "    if self.primero is None:\n",
        "      self.primero = nodo(estudiante = estudiante)\n",
        "      return\n",
        "\n",
        "    actual = self.primero\n",
        "    while actual.siguiente:\n",
        "      actual = actual.siguiente\n",
        "    actual.siguiente = nodo(estudiante = estudiante)\n",
        "\n",
        "  def recorrer(self):\n",
        "    actual = self.primero\n",
        "    while actual != None: \n",
        "      print(\"carne:\", actual.estudiante.carne, \"nombre:\", actual.estudiante.nombre, \"email:\", actual.estudiante.email, \"->\")\n",
        "      actual = actual.siguiente\n",
        "\n",
        "  def eliminar(self, carne):\n",
        "    actual = self.primero\n",
        "    anterior = None\n",
        "    \n",
        "    while actual and actual.estudiante.carne != carne:\n",
        "      anterior = actual\n",
        "      actual = actual.siguiente\n",
        "\n",
        "    if anterior is None:\n",
        "      self.primero = actual.siguiente\n",
        "      actual.siguiente = None\n",
        "    elif actual:\n",
        "      anterior.siguiente = actual.siguiente\n",
        "      actual.siguiente = None \n",
        "\n"
      ],
      "execution_count": null,
      "outputs": []
    },
    {
      "cell_type": "markdown",
      "metadata": {
        "id": "_Kj-V0CC4T3M"
      },
      "source": [
        "**Creación de objetos Estudiante**"
      ]
    },
    {
      "cell_type": "code",
      "metadata": {
        "id": "dnm5dZx5skhM"
      },
      "source": [
        "e1 = estudiante(201712345,\"Gerson Ortiz\", 20, \"20 calle\",46698745, \"gerson@gmail.com\", \"Ingenieria en Sistemas\",\"Programador jr\")\n",
        "e2 = estudiante(201812345,\"Karen Hurtarte\", 21, \"19 calle\",46888745, \"karen@gmail.com\", \"Ingenieria en Sistemas\",\"Programador jr\")\n",
        "e3 = estudiante(201912345,\"Luis Mendez\", 22, \"22 calle\",86698745, \"Luis@gmail.com\", \"Ingenieria en Sistemas\",\"Programador jr\")"
      ],
      "execution_count": null,
      "outputs": []
    },
    {
      "cell_type": "markdown",
      "metadata": {
        "id": "mon_wAfptZBR"
      },
      "source": [
        "**Inserción**"
      ]
    },
    {
      "cell_type": "code",
      "metadata": {
        "id": "ZSXp98yytccB"
      },
      "source": [
        "lista_e = lista_enlazada()\n",
        "lista_e.insertar(e1)\n",
        "lista_e.insertar(e2)\n",
        "lista_e.insertar(e3)"
      ],
      "execution_count": null,
      "outputs": []
    },
    {
      "cell_type": "markdown",
      "metadata": {
        "id": "98v0Metjt7Cv"
      },
      "source": [
        "**Recorrer la lista**"
      ]
    },
    {
      "cell_type": "code",
      "metadata": {
        "colab": {
          "base_uri": "https://localhost:8080/"
        },
        "id": "AI2wcYhPt9Cy",
        "outputId": "83372cf9-da78-4805-b3fb-923e714823ab"
      },
      "source": [
        "lista_e.recorrer()"
      ],
      "execution_count": null,
      "outputs": [
        {
          "output_type": "stream",
          "text": [
            "carne: 201712345 nombre: Gerson Ortiz email: gerson@gmail.com ->\n",
            "carne: 201812345 nombre: Karen Hurtarte email: karen@gmail.com ->\n",
            "carne: 201912345 nombre: Luis Mendez email: Luis@gmail.com ->\n"
          ],
          "name": "stdout"
        }
      ]
    },
    {
      "cell_type": "markdown",
      "metadata": {
        "id": "iiTcRLuawdTF"
      },
      "source": [
        "**Eliminar un nodo de la lista**"
      ]
    },
    {
      "cell_type": "code",
      "metadata": {
        "colab": {
          "base_uri": "https://localhost:8080/"
        },
        "id": "lfkGFXUCwfmi",
        "outputId": "e18dad86-bacc-407e-99cc-1778d87e7da2"
      },
      "source": [
        "lista_e.eliminar(201812345)\n",
        "lista_e.recorrer()"
      ],
      "execution_count": null,
      "outputs": [
        {
          "output_type": "stream",
          "text": [
            "carne: 201712345 nombre: Gerson Ortiz email: gerson@gmail.com ->\n",
            "carne: 201912345 nombre: Luis Mendez email: Luis@gmail.com ->\n"
          ],
          "name": "stdout"
        }
      ]
    }
  ]
}