{
  "nbformat": 4,
  "nbformat_minor": 0,
  "metadata": {
    "colab": {
      "name": "3. Listas doblemente enlazadas.ipynb",
      "provenance": [],
      "collapsed_sections": [],
      "authorship_tag": "ABX9TyMd1aNqQRZitI2kyVLe/lis",
      "include_colab_link": true
    },
    "kernelspec": {
      "name": "python3",
      "display_name": "Python 3"
    },
    "language_info": {
      "name": "python"
    }
  },
  "cells": [
    {
      "cell_type": "markdown",
      "metadata": {
        "id": "view-in-github",
        "colab_type": "text"
      },
      "source": [
        "<a href=\"https://colab.research.google.com/github/gabrielmhh/tareas-ipc2/blob/main/3_Listas_doblemente_enlazadas.ipynb\" target=\"_parent\"><img src=\"https://colab.research.google.com/assets/colab-badge.svg\" alt=\"Open In Colab\"/></a>"
      ]
    },
    {
      "cell_type": "markdown",
      "metadata": {
        "id": "8yT48daCvWen"
      },
      "source": [
        "###**Listas Doblemente Enlazadas**\n",
        "**Definición de la clase Estudiante**"
      ]
    },
    {
      "cell_type": "code",
      "metadata": {
        "id": "YaUbN4TxvgEu"
      },
      "source": [
        "class estudiante:\n",
        "  def __init__ (self, carne, nombre, edad, direccion, telefono, email, carrera, puesto):\n",
        "    self.carne = carne\n",
        "    self.nombre = nombre\n",
        "    self.edad = edad\n",
        "    self.direccion = direccion\n",
        "    self.telefono = telefono\n",
        "    self.email = email\n",
        "    self.carrera = carrera\n",
        "    self.puesto = puesto"
      ],
      "execution_count": 1,
      "outputs": []
    },
    {
      "cell_type": "markdown",
      "metadata": {
        "id": "hfqyVUUszt1V"
      },
      "source": [
        "**Definicion de la clase Nodo**"
      ]
    },
    {
      "cell_type": "code",
      "metadata": {
        "id": "ZIrggemOzwd2"
      },
      "source": [
        "class nodo:\n",
        "  def __init__(self, estudiante = None, siguiente = None, anterior=None):\n",
        "    self.estudiante = estudiante\n",
        "    self.siguiente = siguiente\n",
        "    self.anterior = anterior"
      ],
      "execution_count": 2,
      "outputs": []
    },
    {
      "cell_type": "markdown",
      "metadata": {
        "id": "I8tdPbp30GN2"
      },
      "source": [
        "**Definición de la Clase Lista Doblemente Enlazada**"
      ]
    },
    {
      "cell_type": "code",
      "metadata": {
        "id": "a2nNTc1x0Ldi"
      },
      "source": [
        "class lista_doble:\n",
        "  def __init__(self):\n",
        "    self.primero = None\n",
        "\n",
        "  def insertar(self, estudiante):\n",
        "    if self.primero is None:\n",
        "      self.primero = nodo(estudiante=estudiante)\n",
        "    else:\n",
        "      actual = nodo(estudiante = estudiante, siguiente= self.primero)\n",
        "      self.primero.anterior = actual\n",
        "      self.primero = actual\n",
        "\n",
        "  def recorrer(self): \n",
        "    if self.primero is None:\n",
        "      return\n",
        "    actual = self.primero\n",
        "    print(\"carne:\", actual.estudiante.carne, \"nombre: \", actual.estudiante.nombre, \"email: \", actual.estudiante.email, \"->\")\n",
        "    while actual.siguiente:\n",
        "      actual = actual.siguiente\n",
        "      print(\"carne:\", actual.estudiante.carne, \"nombre: \", actual.estudiante.nombre, \"email: \", actual.estudiante.email, \"->\")\n",
        "\n",
        "  def eliminar(self, carne):\n",
        "    actual = self.primero\n",
        "    while actual:\n",
        "      if actual.estudiante.carne == carne:\n",
        "        if actual.anterior:\n",
        "          if actual.siguiente:\n",
        "            actual.anterior.siguiente = actual.siguiente\n",
        "            actual.siguiente.anterior = actual.anterior\n",
        "          else:\n",
        "            actual.anterior.siguiente = None\n",
        "            actual.anterior = None\n",
        "        else: \n",
        "          if actual.siguiente:\n",
        "            self.primero = actual.siguiente\n",
        "            actual.siguiente.anterior = None\n",
        "          else:\n",
        "            self.primero = None\n",
        "        return True\n",
        "      else: \n",
        "        actual = actual.siguiente\n",
        "    return False    "
      ],
      "execution_count": 3,
      "outputs": []
    },
    {
      "cell_type": "markdown",
      "metadata": {
        "id": "WrvNyOzM2MRe"
      },
      "source": [
        "**Creacion de objetos Estudiante**"
      ]
    },
    {
      "cell_type": "code",
      "metadata": {
        "id": "7B9mLiUd2R8Q"
      },
      "source": [
        "e1 = estudiante(201712345,\"Gerson Ortiz\", 20, \"20 calle\",46698745, \"gerson@gmail.com\", \"Ingenieria en Sistemas\",\"Programador jr\")\n",
        "e2 = estudiante(201812345,\"Karen Hurtarte\", 21, \"19 calle\",46888745, \"karen@gmail.com\", \"Ingenieria en Sistemas\",\"Programador jr\")\n",
        "e3 = estudiante(201912345,\"Luis Mendez\", 22, \"22 calle\",86698745, \"Luis@gmail.com\", \"Ingenieria en Sistemas\",\"Programador jr\")"
      ],
      "execution_count": 4,
      "outputs": []
    },
    {
      "cell_type": "markdown",
      "metadata": {
        "id": "xc4F2R7K2ZRY"
      },
      "source": [
        "**Insercion**"
      ]
    },
    {
      "cell_type": "code",
      "metadata": {
        "id": "9qn6RyJX2a5N"
      },
      "source": [
        "lista_d = lista_doble()\n",
        "lista_d.insertar(e1)\n",
        "lista_d.insertar(e2)\n",
        "lista_d.insertar(e3)"
      ],
      "execution_count": 5,
      "outputs": []
    },
    {
      "cell_type": "markdown",
      "metadata": {
        "id": "bYRBMCX0h_cu"
      },
      "source": [
        "**Recorrer Lista**"
      ]
    },
    {
      "cell_type": "code",
      "metadata": {
        "colab": {
          "base_uri": "https://localhost:8080/"
        },
        "id": "TIj2BmTeiDfY",
        "outputId": "67565784-ebc0-4f75-d545-f4b32d6c4bcb"
      },
      "source": [
        "lista_d.recorrer()"
      ],
      "execution_count": 6,
      "outputs": [
        {
          "output_type": "stream",
          "text": [
            "carne: 201912345 nombre:  Luis Mendez email:  Luis@gmail.com ->\n",
            "carne: 201812345 nombre:  Karen Hurtarte email:  karen@gmail.com ->\n",
            "carne: 201712345 nombre:  Gerson Ortiz email:  gerson@gmail.com ->\n"
          ],
          "name": "stdout"
        }
      ]
    },
    {
      "cell_type": "markdown",
      "metadata": {
        "id": "L99aXWGQqE0_"
      },
      "source": [
        "**Eliminar el nodo del medio de la lista**"
      ]
    },
    {
      "cell_type": "code",
      "metadata": {
        "colab": {
          "base_uri": "https://localhost:8080/"
        },
        "id": "J0rFdjj4qK04",
        "outputId": "951f6588-2083-496b-f40a-a41ec408374d"
      },
      "source": [
        "lista_d.eliminar(201812345)"
      ],
      "execution_count": 7,
      "outputs": [
        {
          "output_type": "execute_result",
          "data": {
            "text/plain": [
              "True"
            ]
          },
          "metadata": {},
          "execution_count": 7
        }
      ]
    },
    {
      "cell_type": "code",
      "metadata": {
        "colab": {
          "base_uri": "https://localhost:8080/"
        },
        "id": "1AIWMvEWqjSc",
        "outputId": "6c637ad0-e997-40e5-b1ba-87eccb39edf9"
      },
      "source": [
        "lista_d.recorrer()"
      ],
      "execution_count": 8,
      "outputs": [
        {
          "output_type": "stream",
          "text": [
            "carne: 201912345 nombre:  Luis Mendez email:  Luis@gmail.com ->\n",
            "carne: 201712345 nombre:  Gerson Ortiz email:  gerson@gmail.com ->\n"
          ],
          "name": "stdout"
        }
      ]
    },
    {
      "cell_type": "markdown",
      "metadata": {
        "id": "WGlOHLPsqpS6"
      },
      "source": [
        "**Eliminar el nodo primero de la lista**"
      ]
    },
    {
      "cell_type": "code",
      "metadata": {
        "colab": {
          "base_uri": "https://localhost:8080/"
        },
        "id": "898C8mELqr8i",
        "outputId": "edba82ff-cd28-4c56-c7bc-37788127b5b9"
      },
      "source": [
        "lista_d.eliminar(201912345)"
      ],
      "execution_count": 9,
      "outputs": [
        {
          "output_type": "execute_result",
          "data": {
            "text/plain": [
              "True"
            ]
          },
          "metadata": {},
          "execution_count": 9
        }
      ]
    },
    {
      "cell_type": "code",
      "metadata": {
        "colab": {
          "base_uri": "https://localhost:8080/"
        },
        "id": "w25rihkPqw8G",
        "outputId": "8bec19db-44c1-4f02-8c0a-de027e0534f8"
      },
      "source": [
        "lista_d.recorrer()"
      ],
      "execution_count": 10,
      "outputs": [
        {
          "output_type": "stream",
          "text": [
            "carne: 201712345 nombre:  Gerson Ortiz email:  gerson@gmail.com ->\n"
          ],
          "name": "stdout"
        }
      ]
    },
    {
      "cell_type": "markdown",
      "metadata": {
        "id": "645afwr8q7Cm"
      },
      "source": [
        "**Eliminar el ultimo nodo de la lista**"
      ]
    },
    {
      "cell_type": "code",
      "metadata": {
        "colab": {
          "base_uri": "https://localhost:8080/"
        },
        "id": "EnGo5B0PrDh4",
        "outputId": "a0ddadb0-0c5c-49d3-d4db-34ee069a2a73"
      },
      "source": [
        "lista_d.eliminar(201712345)"
      ],
      "execution_count": 11,
      "outputs": [
        {
          "output_type": "execute_result",
          "data": {
            "text/plain": [
              "True"
            ]
          },
          "metadata": {},
          "execution_count": 11
        }
      ]
    },
    {
      "cell_type": "code",
      "metadata": {
        "id": "ElTmn-RGrLQI"
      },
      "source": [
        "lista_d.recorrer()"
      ],
      "execution_count": 12,
      "outputs": []
    }
  ]
}